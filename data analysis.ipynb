{
 "cells": [
  {
   "cell_type": "code",
   "execution_count": 21,
   "id": "9616a7e0-2a89-45c9-912b-3f7d8b44b8f9",
   "metadata": {
    "scrolled": true
   },
   "outputs": [
    {
     "name": "stdout",
     "output_type": "stream",
     "text": [
      "(891, 15)\n",
      "   survived  pclass     sex   age  sibsp  parch     fare embarked  class  \\\n",
      "0         0       3    male  22.0      1      0   7.2500        S  Third   \n",
      "1         1       1  female  38.0      1      0  71.2833        C  First   \n",
      "2         1       3  female  26.0      0      0   7.9250        S  Third   \n",
      "3         1       1  female  35.0      1      0  53.1000        S  First   \n",
      "4         0       3    male  35.0      0      0   8.0500        S  Third   \n",
      "\n",
      "     who  adult_male deck  embark_town alive  alone  \n",
      "0    man        True  NaN  Southampton    no  False  \n",
      "1  woman       False    C    Cherbourg   yes  False  \n",
      "2  woman       False  NaN  Southampton   yes   True  \n",
      "3  woman       False    C  Southampton   yes  False  \n",
      "4    man        True  NaN  Southampton    no   True  \n",
      "<class 'pandas.core.frame.DataFrame'>\n",
      "RangeIndex: 891 entries, 0 to 890\n",
      "Data columns (total 15 columns):\n",
      " #   Column       Non-Null Count  Dtype   \n",
      "---  ------       --------------  -----   \n",
      " 0   survived     891 non-null    int64   \n",
      " 1   pclass       891 non-null    int64   \n",
      " 2   sex          891 non-null    object  \n",
      " 3   age          714 non-null    float64 \n",
      " 4   sibsp        891 non-null    int64   \n",
      " 5   parch        891 non-null    int64   \n",
      " 6   fare         891 non-null    float64 \n",
      " 7   embarked     889 non-null    object  \n",
      " 8   class        891 non-null    category\n",
      " 9   who          891 non-null    object  \n",
      " 10  adult_male   891 non-null    bool    \n",
      " 11  deck         203 non-null    category\n",
      " 12  embark_town  889 non-null    object  \n",
      " 13  alive        891 non-null    object  \n",
      " 14  alone        891 non-null    bool    \n",
      "dtypes: bool(2), category(2), float64(2), int64(4), object(5)\n",
      "memory usage: 80.7+ KB\n",
      "None\n",
      "         survived      pclass         age       sibsp       parch        fare\n",
      "count  891.000000  891.000000  714.000000  891.000000  891.000000  891.000000\n",
      "mean     0.383838    2.308642   29.699118    0.523008    0.381594   32.204208\n",
      "std      0.486592    0.836071   14.526497    1.102743    0.806057   49.693429\n",
      "min      0.000000    1.000000    0.420000    0.000000    0.000000    0.000000\n",
      "25%      0.000000    2.000000   20.125000    0.000000    0.000000    7.910400\n",
      "50%      0.000000    3.000000   28.000000    0.000000    0.000000   14.454200\n",
      "75%      1.000000    3.000000   38.000000    1.000000    0.000000   31.000000\n",
      "max      1.000000    3.000000   80.000000    8.000000    6.000000  512.329200\n"
     ]
    }
   ],
   "source": [
    "import seaborn as sns\n",
    "df = sns.load_dataset(\"titanic\")\n",
    "\n",
    "print(df.shape)\n",
    "print(df.head())\n",
    "print(df.info())\n",
    "print(df.describe())"
   ]
  },
  {
   "cell_type": "code",
   "execution_count": 23,
   "id": "ec5934cf-ce0d-4bce-b503-2d8e61178526",
   "metadata": {},
   "outputs": [
    {
     "name": "stdout",
     "output_type": "stream",
     "text": [
      "0      22.0\n",
      "1      38.0\n",
      "2      26.0\n",
      "3      35.0\n",
      "4      35.0\n",
      "       ... \n",
      "886    27.0\n",
      "887    19.0\n",
      "888    28.0\n",
      "889    26.0\n",
      "890    32.0\n",
      "Name: age, Length: 891, dtype: float64\n",
      "0      S\n",
      "1      C\n",
      "2      S\n",
      "3      S\n",
      "4      S\n",
      "      ..\n",
      "886    S\n",
      "887    S\n",
      "888    S\n",
      "889    C\n",
      "890    Q\n",
      "Name: embarked, Length: 891, dtype: object\n",
      "0      2\n",
      "1      2\n",
      "2      1\n",
      "3      2\n",
      "4      1\n",
      "      ..\n",
      "886    1\n",
      "887    1\n",
      "888    4\n",
      "889    1\n",
      "890    1\n",
      "Name: family_size, Length: 891, dtype: int64\n"
     ]
    }
   ],
   "source": [
    "df['age'] = df['age'].fillna(df['age'].median())\n",
    "print(df['age'])\n",
    "                           \n",
    "df['embarked'] = df['embarked'].fillna(df['embarked'].mode()[0])\n",
    "print(df['embarked'])                        \n",
    "df['family_size'] = df['sibsp'] + df['parch'] + 1\n",
    "print(df['family_size'])"
   ]
  },
  {
   "cell_type": "code",
   "execution_count": 15,
   "id": "6caf1c6e-d39a-49c1-8e9e-59b7d0cfbf47",
   "metadata": {},
   "outputs": [
    {
     "name": "stdout",
     "output_type": "stream",
     "text": [
      "overall survival rate: 0.3838383838383838\n",
      "\n",
      "survival by class:\n",
      " pclass\n",
      "1    0.629630\n",
      "2    0.472826\n",
      "3    0.242363\n",
      "Name: survived, dtype: float64\n",
      "\n",
      "survival by gender:\n",
      " sex\n",
      "female    0.742038\n",
      "male      0.188908\n",
      "Name: survived, dtype: float64\n",
      "\n",
      "average age by survival;\n",
      " survived\n",
      "0    30.028233\n",
      "1    28.291433\n",
      "Name: age, dtype: float64\n"
     ]
    }
   ],
   "source": [
    "overall_survival=df['survived'].mean()\n",
    "survival_by_class=df.groupby('pclass')['survived'].mean()\n",
    "survival_by_gender=df.groupby('sex')['survived'].mean()\n",
    "age_by_survival=df.groupby('survived')['age'].mean()\n",
    "print(\"overall survival rate:\",overall_survival)\n",
    "print(\"\\nsurvival by class:\\n\",survival_by_class)\n",
    "print(\"\\nsurvival by gender:\\n\",survival_by_gender)\n",
    "print(\"\\naverage age by survival;\\n\",age_by_survival)"
   ]
  },
  {
   "cell_type": "code",
   "execution_count": 4,
   "id": "98b4547d-2209-4094-8b28-2dc40e08c5c1",
   "metadata": {},
   "outputs": [
    {
     "ename": "NameError",
     "evalue": "name 'df' is not defined",
     "output_type": "error",
     "traceback": [
      "\u001b[1;31m---------------------------------------------------------------------------\u001b[0m",
      "\u001b[1;31mNameError\u001b[0m                                 Traceback (most recent call last)",
      "Cell \u001b[1;32mIn[4], line 4\u001b[0m\n\u001b[0;32m      1\u001b[0m \u001b[38;5;28;01mimport\u001b[39;00m\u001b[38;5;250m \u001b[39m\u001b[38;5;21;01mseaborn\u001b[39;00m\u001b[38;5;250m \u001b[39m\u001b[38;5;28;01mas\u001b[39;00m\u001b[38;5;250m \u001b[39m\u001b[38;5;21;01msns\u001b[39;00m\n\u001b[0;32m      2\u001b[0m \u001b[38;5;28;01mimport\u001b[39;00m\u001b[38;5;250m \u001b[39m\u001b[38;5;21;01mmatplotlib\u001b[39;00m\u001b[38;5;21;01m.\u001b[39;00m\u001b[38;5;21;01mpyplot\u001b[39;00m\u001b[38;5;250m \u001b[39m\u001b[38;5;28;01mas\u001b[39;00m\u001b[38;5;250m \u001b[39m\u001b[38;5;21;01mplt\u001b[39;00m\n\u001b[1;32m----> 4\u001b[0m sns\u001b[38;5;241m.\u001b[39mcountplot(x \u001b[38;5;241m=\u001b[39m \u001b[38;5;124m'\u001b[39m\u001b[38;5;124msurvived\u001b[39m\u001b[38;5;124m'\u001b[39m,data\u001b[38;5;241m=\u001b[39mdf)\n\u001b[0;32m      5\u001b[0m plt\u001b[38;5;241m.\u001b[39mtitle(\u001b[38;5;124m\"\u001b[39m\u001b[38;5;124moverall survival count\u001b[39m\u001b[38;5;124m\"\u001b[39m)\n\u001b[0;32m      6\u001b[0m plt\u001b[38;5;241m.\u001b[39mshow()\n",
      "\u001b[1;31mNameError\u001b[0m: name 'df' is not defined"
     ]
    }
   ],
   "source": [
    "import seaborn as sns\n",
    "import matplotlib.pyplot as plt\n",
    "\n",
    "sns.countplot(x = 'survived',data=df)\n",
    "plt.title(\"overall survival count\")\n",
    "plt.show()\n",
    "\n",
    "sns.barplot(x='pclass',y='survived',data=df)\n",
    "plt.title(\"survival rate by class\")\n",
    "plt.show()\n",
    "\n",
    "sns.barplot(x='sex',y='survived',data=df)\n",
    "plt.title(\"survival rate by gender\")\n",
    "plt.show()\n",
    "\n",
    "sns.scatterplot(x='age', y='fare',hue='survived', data = df)\n",
    "plt.title(\"age vs fare with Survival\")\n",
    "plt.show()\n",
    "\n",
    "sns.boxplot(x='pclass',y='age',data=df)\n",
    "plt.title(\"age distribution by passenger class\")\n",
    "plt.show()"
   ]
  },
  {
   "cell_type": "markdown",
   "id": "50c06c06-b917-4338-aae0-1ff03c769186",
   "metadata": {},
   "source": [
    "import seaborn as plt\n",
    "import matplotlib.pyplot as plt\n",
    "sns.countplot(x='survived',data=df)\n",
    "plt.title(\"Overall Survival Count\")\n",
    "plt.show()\n",
    "sns.barplot(x=\"sex\",y='survived',data=df)\n",
    "plt.title(\"survival rate by gender\")\n",
    "plt.show()\n",
    "sns.barplot(x=\"sex\",y='survived',data=df)\n",
    "plt.title(\"survival rate by gender\")\n",
    "plt.show()\n",
    "sns.scatterplot(x='age',y='fare',hue='survived',data=df)\n",
    "plt.title(\"age vs fare with survival\")\n",
    "plt.show()\n",
    "sns.boxplot(x='pclass',y='age',data=df)\n",
    "plt.title(\"age distribution by passenger class\")\n",
    "plt.show()"
   ]
  },
  {
   "cell_type": "markdown",
   "id": "5118836c-7820-4268-be76-bfd359e3b235",
   "metadata": {},
   "source": [
    "1) overall survival rate=38%\n",
    "2) women survived more(74%)compared to men(19%)\n",
    "3) class mattered. first class survival (63%)>secomd(47"
   ]
  }
 ],
 "metadata": {
  "kernelspec": {
   "display_name": "Python [conda env:base] *",
   "language": "python",
   "name": "conda-base-py"
  },
  "language_info": {
   "codemirror_mode": {
    "name": "ipython",
    "version": 3
   },
   "file_extension": ".py",
   "mimetype": "text/x-python",
   "name": "python",
   "nbconvert_exporter": "python",
   "pygments_lexer": "ipython3",
   "version": "3.13.5"
  }
 },
 "nbformat": 4,
 "nbformat_minor": 5
}
