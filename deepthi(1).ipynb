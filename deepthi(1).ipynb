{
 "cells": [
  {
   "cell_type": "code",
   "execution_count": 2,
   "id": "2bc4eb42-a197-4bdf-bf4b-0946cb424265",
   "metadata": {},
   "outputs": [
    {
     "name": "stdout",
     "output_type": "stream",
     "text": [
      "<class 'int'> <class 'float'> <class 'str'> <class 'bool'>\n"
     ]
    }
   ],
   "source": [
    "x=10\n",
    "y=3.14\n",
    "z=\"python\"\n",
    "flag=False\n",
    "print(type(x), type(y), type(z), type(flag))\n"
   ]
  },
  {
   "cell_type": "code",
   "execution_count": 4,
   "id": "1ca667e0-c2bc-4b54-97fd-be04302c5f7f",
   "metadata": {},
   "outputs": [
    {
     "name": "stdout",
     "output_type": "stream",
     "text": [
      "deepthi avinash college of commerce python\n"
     ]
    }
   ],
   "source": [
    "name=\"deepthi\"\n",
    "college=\"avinash college of commerce\"\n",
    "favorite_programming_language=\"python\"\n",
    "print(name,college,favorite_programming_language)"
   ]
  },
  {
   "cell_type": "code",
   "execution_count": 7,
   "id": "ebf767e4-9c9a-4a73-8844-d908eeb6adfb",
   "metadata": {},
   "outputs": [
    {
     "name": "stdout",
     "output_type": "stream",
     "text": [
      "18\n"
     ]
    }
   ],
   "source": [
    "current_year=2025\n",
    "birth_year=2007\n",
    "print(current_year-birth_year)"
   ]
  },
  {
   "cell_type": "code",
   "execution_count": 8,
   "id": "fb18ac13-ddf4-4ad9-8637-41ce246e64f4",
   "metadata": {},
   "outputs": [
    {
     "name": "stdout",
     "output_type": "stream",
     "text": [
      "Final destination-bloodlines 2025\n"
     ]
    }
   ],
   "source": [
    "favorite_movie_name=\"Final destination-bloodlines\"\n",
    "Release_year=2025\n",
    "print(favorite_movie_name,Release_year)"
   ]
  },
  {
   "cell_type": "code",
   "execution_count": 11,
   "id": "5d598a8d-b582-4f00-98d0-6fdb90976ce7",
   "metadata": {},
   "outputs": [
    {
     "name": "stdout",
     "output_type": "stream",
     "text": [
      "Addition: 19\n"
     ]
    }
   ],
   "source": [
    "a=15\n",
    "b=4\n",
    "print(\"Addition:\",a+b)"
   ]
  },
  {
   "cell_type": "code",
   "execution_count": 12,
   "id": "49a10e4d-1971-4a6d-abb7-065b964e9ccc",
   "metadata": {},
   "outputs": [
    {
     "name": "stdout",
     "output_type": "stream",
     "text": [
      "Division: 3.75\n"
     ]
    }
   ],
   "source": [
    "a=15\n",
    "b=4\n",
    "print(\"Division:\",a/b)"
   ]
  },
  {
   "cell_type": "code",
   "execution_count": 13,
   "id": "196a3381-c6e4-4343-b3ba-bcf6d37abe43",
   "metadata": {},
   "outputs": [
    {
     "name": "stdout",
     "output_type": "stream",
     "text": [
      "Floor division: 3\n"
     ]
    }
   ],
   "source": [
    "a=15\n",
    "b=4\n",
    "print(\"Floor division:\",a//b)"
   ]
  },
  {
   "cell_type": "code",
   "execution_count": 15,
   "id": "5da8d833-2148-4021-83f5-af0ca6be362f",
   "metadata": {},
   "outputs": [
    {
     "name": "stdout",
     "output_type": "stream",
     "text": [
      "Power: 50625\n"
     ]
    }
   ],
   "source": [
    "a=15\n",
    "b=4\n",
    "print(\"Power:\",a**b)"
   ]
  },
  {
   "cell_type": "code",
   "execution_count": 21,
   "id": "9fdca010-9253-4e5e-a35d-5a02321c8308",
   "metadata": {},
   "outputs": [
    {
     "name": "stdout",
     "output_type": "stream",
     "text": [
      "False\n",
      "True\n",
      "True\n"
     ]
    }
   ],
   "source": [
    "a=10\n",
    "b=20\n",
    "print(a>b) #false\n",
    "print(a==10) #true\n",
    "print((a<b) and (b==20)) #true"
   ]
  },
  {
   "cell_type": "code",
   "execution_count": 1,
   "id": "fb161ea9-8c4a-4019-89b6-90318ab55f5a",
   "metadata": {},
   "outputs": [
    {
     "name": "stdout",
     "output_type": "stream",
     "text": [
      "['777 charlie', 'Murari', 'Saiyaara', 'annabelle']\n",
      "Murari\n"
     ]
    }
   ],
   "source": [
    "films=[\"777 charlie\",\"Murari\",\"Saiyaara\"]\n",
    "films.append(\"annabelle\")\n",
    "print(films)\n",
    "print(films[1])"
   ]
  },
  {
   "cell_type": "code",
   "execution_count": 2,
   "id": "a8523814-e5a6-43e3-82ab-8c27126d3b61",
   "metadata": {},
   "outputs": [
    {
     "name": "stdout",
     "output_type": "stream",
     "text": [
      "['ishq wala love', 'daylight', 'yemito']\n",
      "daylight\n"
     ]
    }
   ],
   "source": [
    "songs=[\"blockbuster\",\"ishq wala love\",\"daylight\"]\n",
    "songs.append(\"yemito\")\n",
    "songs.remove(\"blockbuster\")\n",
    "print(songs)\n",
    "print(songs[1])"
   ]
  },
  {
   "cell_type": "code",
   "execution_count": 3,
   "id": "b01b4135-bd44-45a2-8f2c-348c70862cc0",
   "metadata": {},
   "outputs": [
    {
     "name": "stdout",
     "output_type": "stream",
     "text": [
      "atlee\n"
     ]
    }
   ],
   "source": [
    "directors=(\"sandeep reddy vanga\",\"atlee\",\"trivikram\")\n",
    "print(directors[1])\n",
    "#directors[0]=\"guna shankar\""
   ]
  },
  {
   "cell_type": "code",
   "execution_count": 1,
   "id": "f922182f-8dfa-4122-81b3-e7171896bf96",
   "metadata": {},
   "outputs": [
    {
     "name": "stdout",
     "output_type": "stream",
     "text": [
      "{1, 2, 3, 4, 5}\n"
     ]
    }
   ],
   "source": [
    "numbers={1,2,3,3,4}\n",
    "numbers.add(5)\n",
    "print(numbers)"
   ]
  },
  {
   "cell_type": "code",
   "execution_count": 7,
   "id": "924b7251-3ced-414a-9413-cfdda774502f",
   "metadata": {},
   "outputs": [
    {
     "name": "stdout",
     "output_type": "stream",
     "text": [
      "dict_keys(['name', 'age', 'course', 'college'])\n",
      "dict_values(['Deepthi Reddy', 18, 'Python Full Stack', 'Avinash college of commerce'])\n",
      "Deepthi Reddy\n",
      "{'name': 'Deepthi Reddy', 'age': 18, 'course': 'Python Full Stack', 'college': 'Avinash college of commerce'}\n"
     ]
    }
   ],
   "source": [
    "student= {\n",
    "    \"name\":\"Deepthi Reddy\",\n",
    "    \"age\":18,\n",
    "   \"course\":\"Python Full Stack\"\n",
    "   }\n",
    "student[\"college\"]=\"Avinash college of commerce\"\n",
    "print(student.keys())\n",
    "print(student.values())\n",
    "print(student[\"name\"]) \n",
    "student[\"age\"]=18\n",
    "print(student)"
   ]
  },
  {
   "cell_type": "code",
   "execution_count": 13,
   "id": "34af8658-6292-46fa-99a3-ff30a0ed2a3e",
   "metadata": {},
   "outputs": [
    {
     "name": "stdout",
     "output_type": "stream",
     "text": [
      "Grade:A\n"
     ]
    }
   ],
   "source": [
    "marks=100\n",
    "if marks>=90:\n",
    "    print(\"Grade:A\")\n",
    "elif marks>=75:\n",
    "    print(\"Grade:B\")\n",
    "elif marks>=50:\n",
    "    print(\"Grade:C\")\n",
    "else:\n",
    "    print(\"Grade:fail\")"
   ]
  },
  {
   "cell_type": "code",
   "execution_count": 16,
   "id": "ff2ff4df-3a30-4c63-9774-1aec6c2f8049",
   "metadata": {
    "scrolled": true
   },
   "outputs": [
    {
     "name": "stdout",
     "output_type": "stream",
     "text": [
      "numbers: 1\n",
      "numbers: 2\n",
      "numbers: 3\n",
      "numbers: 4\n",
      "numbers: 5\n"
     ]
    }
   ],
   "source": [
    "for i in range (1, 6):\n",
    "  print(\"numbers:\",i)"
   ]
  },
  {
   "cell_type": "code",
   "execution_count": 22,
   "id": "69583de4-0bdc-45b9-85f6-05c123ef297e",
   "metadata": {},
   "outputs": [
    {
     "name": "stdout",
     "output_type": "stream",
     "text": [
      "count: 1\n",
      "count: 2\n",
      "count: 3\n",
      "count: 4\n",
      "count: 5\n"
     ]
    }
   ],
   "source": [
    "count = 1\n",
    "while count <= 5:\n",
    "    print(\"count:\",count)\n",
    "    count += 1"
   ]
  },
  {
   "cell_type": "code",
   "execution_count": 24,
   "id": "83a4b1da-29e7-43f2-870b-4ce829208ced",
   "metadata": {},
   "outputs": [
    {
     "name": "stdout",
     "output_type": "stream",
     "text": [
      "Count: 6\n",
      "1\n",
      "2\n",
      "3\n",
      "4\n"
     ]
    }
   ],
   "source": [
    "print(\"Count:\", count)\n",
    "count += 1\n",
    "for i in range(1,10):\n",
    "    if i==5:\n",
    "      break #stoploop\n",
    "    print(i)"
   ]
  },
  {
   "cell_type": "code",
   "execution_count": null,
   "id": "4c96665a-7426-4f69-9fd0-79d154748064",
   "metadata": {},
   "outputs": [],
   "source": []
  }
 ],
 "metadata": {
  "kernelspec": {
   "display_name": "Python [conda env:base] *",
   "language": "python",
   "name": "conda-base-py"
  },
  "language_info": {
   "codemirror_mode": {
    "name": "ipython",
    "version": 3
   },
   "file_extension": ".py",
   "mimetype": "text/x-python",
   "name": "python",
   "nbconvert_exporter": "python",
   "pygments_lexer": "ipython3",
   "version": "3.13.5"
  }
 },
 "nbformat": 4,
 "nbformat_minor": 5
}
