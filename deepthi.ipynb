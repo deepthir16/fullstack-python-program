{
 "cells": [
  {
   "cell_type": "code",
   "execution_count": 2,
   "id": "2bc4eb42-a197-4bdf-bf4b-0946cb424265",
   "metadata": {},
   "outputs": [
    {
     "name": "stdout",
     "output_type": "stream",
     "text": [
      "<class 'int'> <class 'float'> <class 'str'> <class 'bool'>\n"
     ]
    }
   ],
   "source": [
    "x=10\n",
    "y=3.14\n",
    "z=\"python\"\n",
    "flag=False\n",
    "print(type(x), type(y), type(z), type(flag))\n"
   ]
  },
  {
   "cell_type": "code",
   "execution_count": 4,
   "id": "1ca667e0-c2bc-4b54-97fd-be04302c5f7f",
   "metadata": {},
   "outputs": [
    {
     "name": "stdout",
     "output_type": "stream",
     "text": [
      "deepthi avinash college of commerce python\n"
     ]
    }
   ],
   "source": [
    "name=\"deepthi\"\n",
    "college=\"avinash college of commerce\"\n",
    "favorite_programming_language=\"python\"\n",
    "print(name,college,favorite_programming_language)"
   ]
  },
  {
   "cell_type": "code",
   "execution_count": 7,
   "id": "ebf767e4-9c9a-4a73-8844-d908eeb6adfb",
   "metadata": {},
   "outputs": [
    {
     "name": "stdout",
     "output_type": "stream",
     "text": [
      "18\n"
     ]
    }
   ],
   "source": [
    "current_year=2025\n",
    "birth_year=2007\n",
    "print(current_year-birth_year)"
   ]
  },
  {
   "cell_type": "code",
   "execution_count": 8,
   "id": "fb18ac13-ddf4-4ad9-8637-41ce246e64f4",
   "metadata": {},
   "outputs": [
    {
     "name": "stdout",
     "output_type": "stream",
     "text": [
      "Final destination-bloodlines 2025\n"
     ]
    }
   ],
   "source": [
    "favorite_movie_name=\"Final destination-bloodlines\"\n",
    "Release_year=2025\n",
    "print(favorite_movie_name,Release_year)"
   ]
  },
  {
   "cell_type": "code",
   "execution_count": 11,
   "id": "5d598a8d-b582-4f00-98d0-6fdb90976ce7",
   "metadata": {},
   "outputs": [
    {
     "name": "stdout",
     "output_type": "stream",
     "text": [
      "Addition: 19\n"
     ]
    }
   ],
   "source": [
    "a=15\n",
    "b=4\n",
    "print(\"Addition:\",a+b)"
   ]
  },
  {
   "cell_type": "code",
   "execution_count": 12,
   "id": "49a10e4d-1971-4a6d-abb7-065b964e9ccc",
   "metadata": {},
   "outputs": [
    {
     "name": "stdout",
     "output_type": "stream",
     "text": [
      "Division: 3.75\n"
     ]
    }
   ],
   "source": [
    "a=15\n",
    "b=4\n",
    "print(\"Division:\",a/b)"
   ]
  },
  {
   "cell_type": "code",
   "execution_count": 13,
   "id": "196a3381-c6e4-4343-b3ba-bcf6d37abe43",
   "metadata": {},
   "outputs": [
    {
     "name": "stdout",
     "output_type": "stream",
     "text": [
      "Floor division: 3\n"
     ]
    }
   ],
   "source": [
    "a=15\n",
    "b=4\n",
    "print(\"Floor division:\",a//b)"
   ]
  },
  {
   "cell_type": "code",
   "execution_count": 15,
   "id": "5da8d833-2148-4021-83f5-af0ca6be362f",
   "metadata": {},
   "outputs": [
    {
     "name": "stdout",
     "output_type": "stream",
     "text": [
      "Power: 50625\n"
     ]
    }
   ],
   "source": [
    "a=15\n",
    "b=4\n",
    "print(\"Power:\",a**b)"
   ]
  },
  {
   "cell_type": "code",
   "execution_count": 21,
   "id": "9fdca010-9253-4e5e-a35d-5a02321c8308",
   "metadata": {},
   "outputs": [
    {
     "name": "stdout",
     "output_type": "stream",
     "text": [
      "False\n",
      "True\n",
      "True\n"
     ]
    }
   ],
   "source": [
    "a=10\n",
    "b=20\n",
    "print(a>b) #false\n",
    "print(a==10) #true\n",
    "print((a<b) and (b==20)) #true"
   ]
  },
  {
   "cell_type": "code",
   "execution_count": null,
   "id": "fb161ea9-8c4a-4019-89b6-90318ab55f5a",
   "metadata": {},
   "outputs": [],
   "source": []
  },
  {
   "cell_type": "code",
   "execution_count": null,
   "id": "a8523814-e5a6-43e3-82ab-8c27126d3b61",
   "metadata": {},
   "outputs": [],
   "source": []
  }
 ],
 "metadata": {
  "kernelspec": {
   "display_name": "Python [conda env:base] *",
   "language": "python",
   "name": "conda-base-py"
  },
  "language_info": {
   "codemirror_mode": {
    "name": "ipython",
    "version": 3
   },
   "file_extension": ".py",
   "mimetype": "text/x-python",
   "name": "python",
   "nbconvert_exporter": "python",
   "pygments_lexer": "ipython3",
   "version": "3.13.5"
  }
 },
 "nbformat": 4,
 "nbformat_minor": 5
}
